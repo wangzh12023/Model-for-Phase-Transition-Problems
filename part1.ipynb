{
 "cells": [
  {
   "cell_type": "markdown",
   "metadata": {},
   "source": [
    "# Project II Phase Transition\n",
    "## Members and Contributions\n",
    "俞喆川 2023533165: Implement Part2 and write report\n",
    "杨子烆 2023533133: Implement Part1 and report examined\n",
    "\n",
    "\n",
    "## Part 1\n",
    "We implemented the Monte Carlo method as required by the problem and used the UnionSet algorithm to make efficiency improvements to the process."
   ]
  },
  {
   "cell_type": "code",
   "execution_count": 2,
   "metadata": {},
   "outputs": [
    {
     "name": "stdout",
     "output_type": "stream",
     "text": [
      "Average percolation threshold for a 20x20 grid over 200000 experiments: 0.591514\n"
     ]
    }
   ],
   "source": [
    "import numpy as np\n",
    "import random\n",
    "\n",
    "# UnionSet algorithm\n",
    "class UnionFind:\n",
    "    def __init__(self, size):\n",
    "        self.parent = list(range(size))\n",
    "        self.rank = [0] * size\n",
    "\n",
    "    def find(self, p):\n",
    "        if self.parent[p] != p:\n",
    "            self.parent[p] = self.find(self.parent[p])\n",
    "        return self.parent[p]\n",
    "\n",
    "    def union(self, p, q):\n",
    "        rootP = self.find(p)\n",
    "        rootQ = self.find(q)\n",
    "\n",
    "        if rootP != rootQ:\n",
    "            if self.rank[rootP] > self.rank[rootQ]:\n",
    "                self.parent[rootQ] = rootP\n",
    "            elif self.rank[rootP] < self.rank[rootQ]:\n",
    "                self.parent[rootP] = rootQ\n",
    "            else:\n",
    "                self.parent[rootQ] = rootP\n",
    "                self.rank[rootP] += 1\n",
    "\n",
    "    def connected(self, p, q):\n",
    "        return self.find(p) == self.find(q)\n",
    "\n",
    "def initialize_grid(size):\n",
    "    return np.zeros((size, size), dtype=bool)\n",
    "\n",
    "def initialize_blocked_sites(size):\n",
    "    return [(i, j) for i in range(size) for j in range(size)]\n",
    "\n",
    "# Open a site in the grid and connect it to its open neighbors\n",
    "def open_site(grid, blocked_sites, uf, virtual_top, virtual_bottom):\n",
    "    size = len(grid)\n",
    "    blocked_count = len(blocked_sites)\n",
    "    if blocked_count == 0:\n",
    "        return None\n",
    "\n",
    "    rand_index = random.randint(0, blocked_count - 1)\n",
    "    site = blocked_sites[rand_index]\n",
    "\n",
    "    blocked_sites[rand_index], blocked_sites[blocked_count - 1] = blocked_sites[blocked_count - 1], blocked_sites[rand_index]\n",
    "    blocked_sites.pop()\n",
    "\n",
    "    grid[site] = True\n",
    "\n",
    "    x, y = site\n",
    "    index = x * size + y\n",
    "\n",
    "    if x == 0:\n",
    "        uf.union(index, virtual_top)\n",
    "    if x == size - 1:\n",
    "        uf.union(index, virtual_bottom)\n",
    "\n",
    "    for dx, dy in [(-1, 0), (1, 0), (0, -1), (0, 1)]:\n",
    "        nx, ny = x + dx, y + dy\n",
    "        if 0 <= nx < size and 0 <= ny < size and grid[nx, ny]:\n",
    "            neighbor_index = nx * size + ny\n",
    "            uf.union(index, neighbor_index)\n",
    "\n",
    "    return site\n",
    "\n",
    "# Use the UnionFind data structure to check if the virtual top and bottom sites are connected\n",
    "def percolates(uf, virtual_top, virtual_bottom):\n",
    "    return uf.connected(virtual_top, virtual_bottom)\n",
    "\n",
    "# Monte Carlo simulation of percolation\n",
    "def monte_carlo_percolation(size):\n",
    "    grid = initialize_grid(size)\n",
    "    blocked_sites = initialize_blocked_sites(size)\n",
    "    uf = UnionFind(size * size + 2)\n",
    "    virtual_top = size * size\n",
    "    virtual_bottom = size * size + 1\n",
    "    open_count = 0\n",
    "\n",
    "    while not percolates(uf, virtual_top, virtual_bottom):\n",
    "        open_site(grid, blocked_sites, uf, virtual_top, virtual_bottom)\n",
    "        open_count += 1\n",
    "\n",
    "    return open_count / (size * size)\n",
    "\n",
    "def average_percolation_threshold(size, experiments):\n",
    "    thresholds = [monte_carlo_percolation(size) for _ in range(experiments)]\n",
    "    return np.mean(thresholds)\n",
    "\n",
    "# In order not to waste every test result, we manually added history as a past test result\n",
    "def read_history(threshold, experiments, history):\n",
    "    return (history[0] * history[1] + threshold * experiments) / (experiments + history[0]), experiments + history[0]\n",
    "    \n",
    "\n",
    "size = 20\n",
    "experiments = 50000\n",
    "history = (150000, 0.591437)\n",
    "average_threshold = average_percolation_threshold(size, experiments)\n",
    "\n",
    "average_threshold, experiments = read_history(average_threshold, experiments, history)\n",
    "\n",
    "print(f\"Average percolation threshold for a {size}x{size} grid over {experiments} experiments: {average_threshold:.6f}\")\n"
   ]
  },
  {
   "cell_type": "code",
   "execution_count": 22,
   "metadata": {},
   "outputs": [
    {
     "name": "stdout",
     "output_type": "stream",
     "text": [
      "Average percolation threshold for a 50x50 grid over 20000 experiments: 0.592551\n"
     ]
    }
   ],
   "source": [
    "size = 50\n",
    "experiments = 10000\n",
    "history = (20000, 0.592551)\n",
    "average_threshold = average_percolation_threshold(size, experiments)\n",
    "\n",
    "average_threshold, experiments = read_history(average_threshold, experiments, history)\n",
    "\n",
    "print(f\"Average percolation threshold for a {size}x{size} grid over {experiments} experiments: {average_threshold:.6f}\")"
   ]
  },
  {
   "cell_type": "code",
   "execution_count": 3,
   "metadata": {},
   "outputs": [
    {
     "name": "stdout",
     "output_type": "stream",
     "text": [
      "Average percolation threshold for a 100x100 grid over 15000 experiments: 0.592528\n"
     ]
    }
   ],
   "source": [
    "size = 100\n",
    "experiments = 5000\n",
    "history = (10000, 0.592670)\n",
    "average_threshold = average_percolation_threshold(size, experiments)\n",
    "\n",
    "average_threshold, experiments = read_history(average_threshold, experiments, history)\n",
    "\n",
    "print(f\"Average percolation threshold for a {size}x{size} grid over {experiments} experiments: {average_threshold:.6f}\")"
   ]
  }
 ],
 "metadata": {
  "kernelspec": {
   "display_name": "Python 3",
   "language": "python",
   "name": "python3"
  },
  "language_info": {
   "codemirror_mode": {
    "name": "ipython",
    "version": 3
   },
   "file_extension": ".py",
   "mimetype": "text/x-python",
   "name": "python",
   "nbconvert_exporter": "python",
   "pygments_lexer": "ipython3",
   "version": "3.10.6"
  }
 },
 "nbformat": 4,
 "nbformat_minor": 2
}
