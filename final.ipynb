{
 "cells": [
  {
   "cell_type": "code",
   "execution_count": 4,
   "metadata": {},
   "outputs": [],
   "source": [
    "import random\n",
    "import numpy as np\n",
    "import matplotlib.pyplot as plt"
   ]
  },
  {
   "cell_type": "code",
   "execution_count": 6,
   "metadata": {},
   "outputs": [
    {
     "name": "stdout",
     "output_type": "stream",
     "text": [
      "估算的渗透阈值：0.58765\n"
     ]
    },
    {
     "data": {
      "image/png": "[encoded data removed]",
      "text/plain": [
       "<Figure size 640x480 with 1 Axes>"
      ]
     },
     "metadata": {},
     "output_type": "display_data"
    }
   ],
   "source": [
    "\n",
    "\n",
    "# 定义方向（上下左右）\n",
    "DIRECTIONS = [(-1, 0), (1, 0), (0, -1), (0, 1)]\n",
    "\n",
    "def is_valid(x, y, n):\n",
    "    \"\"\"检查位置(x, y)是否在网格内\"\"\"\n",
    "    return 0 <= x < n and 0 <= y < n\n",
    "\n",
    "def dfs(grid, visited, x, y, n):\n",
    "    \"\"\"深度优先搜索，检查从(x, y)开始的开放路径是否能到达底部\"\"\"\n",
    "    stack = [(x, y)]\n",
    "    while stack:\n",
    "        cx, cy = stack.pop()\n",
    "        if visited[cx, cy]:\n",
    "            continue\n",
    "        visited[cx, cy] = True\n",
    "        for dx, dy in DIRECTIONS:\n",
    "            nx, ny = cx + dx, cy + dy\n",
    "            if is_valid(nx, ny, n) and not visited[nx, ny] and grid[nx, ny] == 1:\n",
    "                if nx == n - 1:  # 到达最底层\n",
    "                    return True\n",
    "                stack.append((nx, ny))\n",
    "    return False\n",
    "\n",
    "def percolates(grid, n):\n",
    "    \"\"\"判断网格是否渗透\"\"\"\n",
    "    visited = np.zeros((n, n), dtype=bool)\n",
    "    # 从顶部的每个开放站点开始搜索\n",
    "    for col in range(n):\n",
    "        if grid[0, col] == 1 and not visited[0, col]:\n",
    "            if dfs(grid, visited, 0, col, n):\n",
    "                return True\n",
    "    return False\n",
    "\n",
    "def monte_carlo_simulation(n):\n",
    "    \"\"\"进行蒙特卡洛模拟，估算渗透阈值\"\"\"\n",
    "    grid = np.zeros((n, n), dtype=int)  # 网格初始化为封闭状态\n",
    "    open_sites = 0\n",
    "    while True:\n",
    "        # 随机选择一个封闭站点并打开\n",
    "        x, y = random.randint(0, n - 1), random.randint(0, n - 1)\n",
    "        while grid[x, y] == 1:  # 保证站点是封闭的\n",
    "            x, y = random.randint(0, n - 1), random.randint(0, n - 1)\n",
    "        grid[x, y] = 1\n",
    "        open_sites += 1\n",
    "        \n",
    "        # 判断是否渗透\n",
    "        if percolates(grid, n):\n",
    "            return open_sites / (n * n)  # 返回渗透时的开放站点比例\n",
    "\n",
    "def estimate_percolation_threshold(n, trials):\n",
    "    \"\"\"通过多次实验估算渗透阈值\"\"\"\n",
    "    thresholds = []\n",
    "    for _ in range(trials):\n",
    "        threshold = monte_carlo_simulation(n)\n",
    "        thresholds.append(threshold)\n",
    "    return np.mean(thresholds)\n",
    "\n",
    "# 设置网格大小和实验次数\n",
    "n = 20  # 网格大小 (20x20)\n",
    "trials = 100  # 实验次数\n",
    "\n",
    "# 进行蒙特卡洛模拟\n",
    "estimated_threshold = estimate_percolation_threshold(n, trials)\n",
    "print(f\"估算的渗透阈值：{estimated_threshold}\")\n",
    "\n",
    "# 绘制渗透阈值的分布图\n",
    "thresholds = [monte_carlo_simulation(n) for _ in range(trials)]\n",
    "plt.hist(thresholds, bins=20, density=True)\n",
    "plt.xlabel('Percolation Threshold')\n",
    "plt.ylabel('Frequency')\n",
    "plt.title('Percolation Threshold Estimation')\n",
    "plt.show()\n"
   ]
  }
 ],
 "metadata": {
  "kernelspec": {
   "display_name": "Python 3",
   "language": "python",
   "name": "python3"
  },
  "language_info": {
   "codemirror_mode": {
    "name": "ipython",
    "version": 3
   },
   "file_extension": ".py",
   "mimetype": "text/x-python",
   "name": "python",
   "nbconvert_exporter": "python",
   "pygments_lexer": "ipython3",
   "version": "3.10.6"
  }
 },
 "nbformat": 4,
 "nbformat_minor": 2
}
