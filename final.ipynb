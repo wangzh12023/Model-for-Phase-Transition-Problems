{
 "cells": [
  {
   "cell_type": "markdown",
   "metadata": {},
   "source": [
    "## Part 1\n",
    "\n",
    "Firstly we do the monte carlo simulation to find the mean at least tiles to make percolation(assume the result is $k$) "
   ]
  },
  {
   "cell_type": "code",
   "execution_count": 1,
   "metadata": {},
   "outputs": [],
   "source": [
    "import random\n",
    "import numpy as np\n",
    "import matplotlib.pyplot as plt\n",
    "from typing import Tuple\n",
    "\n",
    "def dfs(grid, visited, x, y, n) -> bool: \n",
    "    DIRECTIONS = [(-1, 0), (1, 0), (0, -1), (0, 1)]   \n",
    "    stack = [(x, y)]\n",
    "    while stack:\n",
    "        cx, cy = stack.pop()\n",
    "        if visited[cx, cy]:\n",
    "            continue\n",
    "        visited[cx, cy] = True\n",
    "        for dx, dy in DIRECTIONS:\n",
    "            nx, ny = cx + dx, cy + dy\n",
    "            if (0 <= nx < n and 0 <= ny < n) and not visited[nx, ny] and grid[nx, ny] == 1:\n",
    "                if nx == n - 1:  \n",
    "                    return True\n",
    "                stack.append((nx, ny))\n",
    "    return False\n",
    "\n",
    "def percolates(grid, n) -> bool:\n",
    "    visited = np.zeros((n, n), dtype=bool)\n",
    "    for col in range(n):\n",
    "        if grid[0, col] == 1 and not visited[0, col] and dfs(grid, visited, 0, col, n):\n",
    "            return True\n",
    "    return False\n",
    "\n",
    "def monte_carlo_simulation(n) -> Tuple[float, int]:\n",
    "    grid = np.zeros((n, n), dtype=int)  \n",
    "    open_sites = 0\n",
    "    while True:\n",
    "        x, y = random.randint(0, n - 1), random.randint(0, n - 1)\n",
    "        while grid[x, y] == 1:  \n",
    "            x, y = random.randint(0, n - 1), random.randint(0, n - 1)\n",
    "        grid[x, y] = 1\n",
    "        open_sites += 1\n",
    "        if percolates(grid, n):\n",
    "            return open_sites / (n * n), open_sites  \n",
    "\n",
    "def estimate_percolation_threshold(n, trials)-> Tuple[float, int]:\n",
    "    thresholds = []\n",
    "    nums = []\n",
    "    for _ in range(trials):\n",
    "        threshold, num = monte_carlo_simulation(n)\n",
    "        thresholds.append(threshold)\n",
    "        nums.append(num)\n",
    "    return np.mean(thresholds), int(np.mean(nums))\n",
    "\n"
   ]
  },
  {
   "cell_type": "code",
   "execution_count": 7,
   "metadata": {},
   "outputs": [
    {
     "name": "stdout",
     "output_type": "stream",
     "text": [
      "The Percolation threshold for a 20 * 20 grid: 0.5916075000000001\n"
     ]
    }
   ],
   "source": [
    "n = 20  \n",
    "trials = 1000\n",
    "\n",
    "\n",
    "estimated_threshold, mean_nums_tile = estimate_percolation_threshold(n, trials)\n",
    "print(f\"The Percolation threshold for a {n} * {n} grid: {estimated_threshold}\")"
   ]
  },
  {
   "cell_type": "markdown",
   "metadata": {},
   "source": [
    "From above we know that if $n=20$, $k=237$"
   ]
  },
  {
   "cell_type": "code",
   "execution_count": 2,
   "metadata": {},
   "outputs": [
    {
     "name": "stdout",
     "output_type": "stream",
     "text": [
      "The Percolation threshold for a 50 * 50 grid: 0.5917344000000001\n"
     ]
    }
   ],
   "source": [
    "n = 50  \n",
    "trials = 1000\n",
    "estimated_threshold, mean_nums_tile = estimate_percolation_threshold(n, trials)\n",
    "print(f\"The Percolation threshold for a {n} * {n} grid: {estimated_threshold}\")"
   ]
  },
  {
   "cell_type": "markdown",
   "metadata": {},
   "source": [
    "From above we know that if $n=50$, $k=1480$"
   ]
  },
  {
   "cell_type": "code",
   "execution_count": null,
   "metadata": {},
   "outputs": [],
   "source": [
    "n = 100 \n",
    "trials = 1000\n",
    "\n",
    "\n",
    "estimated_threshold, mean_nums_tile = estimate_percolation_threshold(n, trials)\n",
    "print(f\"The Percolation threshold for a {n} * {n} grid: {estimated_threshold}\")"
   ]
  },
  {
   "cell_type": "markdown",
   "metadata": {},
   "source": [
    "## Part 2\n",
    "### Task A\n",
    "\n",
    "$$\n",
    "P(\\sigma_k |\\mathbf{\\sigma_{-k}}) = \\frac{P(\\sigma, \\mathbf{\\sigma_{-k}})}{P(\\mathbf{\\sigma_{-k}})}  = \\frac{\\pi_{\\sigma}}{\\sum_{\\sigma_k \\in \\{-1, +1\\}} \\mathbf{\\pi_{\\sigma}}} = \\frac{\\frac{e^{-\\beta H(\\sigma_k, \\mathbf{\\sigma_{-k}})}}{Z}}{\\frac{\\sum_{\\sigma_k \\in \\{-1, +1\\}} e^{-\\beta H(\\sigma_k, \\sigma_{-k})}}{Z}}=\\frac{e^{-\\beta H(\\sigma_k, \\sigma_{-k})}}{\\sum_{\\sigma_k \\in \\{-1, +1\\}} e^{-\\beta H(\\sigma_k, \\sigma_{-k})}}\n",
    "$$\n",
    "\n",
    "$$\n",
    "H(\\sigma_k, \\sigma_{-k}) = -\\sigma_k \\sum_{v \\sim k} \\sigma_v\n",
    "$$\n",
    "\n",
    "$$\n",
    "P(\\sigma_k = +1 | \\sigma_{-k}) = \\frac{e^{-\\beta H(\\sigma_k, \\sigma_{-k})}}{e^{-\\beta H(\\sigma_k, \\sigma_{-k})}+e^{-\\beta H(-\\sigma_k, \\sigma_{-k})}} = \\frac{1}{1 + e^{-2\\sigma_k\\beta\\sum_{v \\sim k} \\sigma_v}} = \\frac{1}{1 + e^{-2\\beta\\sum_{v \\sim k} \\sigma_v}}\n",
    "$$\n",
    "\n",
    "$$\n",
    "P(\\sigma_k = -1 | \\sigma_{-k}) = \\frac{e^{-\\beta H(\\sigma_k, \\sigma_{-k})}}{e^{-\\beta H(\\sigma_k, \\sigma_{-k})}+e^{-\\beta H(-\\sigma_k, \\sigma_{-k})}} = \\frac{1}{1 + e^{-2\\sigma_k\\beta\\sum_{v \\sim k} \\sigma_v}} = \\frac{1}{1 + e^{2\\beta\\sum_{v \\sim k} \\sigma_v}}\n",
    "$$"
   ]
  },
  {
   "cell_type": "markdown",
   "metadata": {},
   "source": [
    "### Method of Task B, C\n",
    "We chose the physical model, i.e., the cyclic boundary, as the set of edges. To continue the idea from Task A, we used Gibbs sampling, randomising a point at each step and choosing whether to reset it to 1 or -1 based on its conditional probability. Each test starts with a randomly generated +1-1 grid. We treat spin=+1/-1 as grey scale in order to visualise the changing process of the ising model, and draw each state of the grid as a black-and-white box plot, with two colours corresponding to two states. We output the boxplot once every tenth of the `steps`.\n",
    "\n",
    "### Task B\n",
    "- $ \\beta = -1 $: Gradually a perfect grid of black and white is generated. This suggests that each spin tends to behave in the opposite state to the neighbouring spins. $\\beta < 0$ is non-physical since the temperature cannot smaller than 0. Normally, each spin should gradually become similar through the interaction of neighbouring nodes, and this current unlikely situation produces the exact opposite run.\n",
    "- $ \\beta = 0 $: The generated results are always completely random. This is because this case corresponds to the case of temperature infinity, where each spin is affected by the infinity of the molecular thermal motion, so that the effect of neighbouring spins can be completely neglected, leading to a purely random case. Corresponds to the loss of magnetism at high temperatures.\n",
    "- $ \\beta = 0.441 $: The black and white blocks of colour are no longer distributed completely randomly, with identical colours gradually coming closer together to form large, less obvious areas of colour. It is known from physics that the current temperature corresponds to the phase transition temperature of the magnet, or the critical temperature. Each spin of the magnet starts to be influenced by its neighbour spins at this temperature, gradually showing convergence.\n",
    "- $ \\beta = 0.8 $: Black and white colour blocks gradually shrink into tangible continuous areas. At the current temperature, the environmental temperature is so low, so that the influence of neighbouring spins easily outweighs the influence of the temperature, and so the spins naturally tend to change to the same state as their neighbours. Corresponds to the fact that magnets have magnetic poles at low temperatures."
   ]
  },
  {
   "cell_type": "code",
   "execution_count": null,
   "metadata": {},
   "outputs": [
    {
     "data": {
      "image/png": "[encoded data removed]",
      "text/plain": [
       "<Figure size 640x480 with 1 Axes>"
      ]
     },
     "metadata": {},
     "output_type": "display_data"
    },
    {
     "ename": "KeyboardInterrupt",
     "evalue": "",
     "output_type": "error",
     "traceback": [
      "\u001b[1;31m---------------------------------------------------------------------------\u001b[0m\n",
      "\u001b[1;31mKeyboardInterrupt\u001b[0m                         Traceback (most recent call last)\n",
      "Cell \u001b[1;32mIn[2], line 50\u001b[0m\n",
      "\u001b[0;32m     47\u001b[0m steps \u001b[38;5;241m=\u001b[39m \u001b[38;5;241m10000000\u001b[39m\n",
      "\u001b[0;32m     49\u001b[0m \u001b[38;5;28;01mfor\u001b[39;00m beta \u001b[38;5;129;01min\u001b[39;00m betas:\n",
      "\u001b[1;32m---> 50\u001b[0m     final_grid \u001b[38;5;241m=\u001b[39m \u001b[43msimulate_ising_gibbs\u001b[49m\u001b[43m(\u001b[49m\u001b[43mn\u001b[49m\u001b[43m,\u001b[49m\u001b[43m \u001b[49m\u001b[43mbeta\u001b[49m\u001b[43m,\u001b[49m\u001b[43m \u001b[49m\u001b[43msteps\u001b[49m\u001b[43m)\u001b[49m\n",
      "\u001b[0;32m     51\u001b[0m     plt\u001b[38;5;241m.\u001b[39mimshow(final_grid, cmap\u001b[38;5;241m=\u001b[39m\u001b[38;5;124m'\u001b[39m\u001b[38;5;124mgray\u001b[39m\u001b[38;5;124m'\u001b[39m)\n",
      "\u001b[0;32m     52\u001b[0m     plt\u001b[38;5;241m.\u001b[39mtitle(\u001b[38;5;124mf\u001b[39m\u001b[38;5;124m\"\u001b[39m\u001b[38;5;124mFinal configuration, β=\u001b[39m\u001b[38;5;132;01m{\u001b[39;00mbeta\u001b[38;5;132;01m}\u001b[39;00m\u001b[38;5;124m\"\u001b[39m)\n",
      "\n",
      "Cell \u001b[1;32mIn[2], line 36\u001b[0m, in \u001b[0;36msimulate_ising_gibbs\u001b[1;34m(n, beta, steps)\u001b[0m\n",
      "\u001b[0;32m     34\u001b[0m grid \u001b[38;5;241m=\u001b[39m initialize_grid(n)\n",
      "\u001b[0;32m     35\u001b[0m \u001b[38;5;28;01mfor\u001b[39;00m step \u001b[38;5;129;01min\u001b[39;00m \u001b[38;5;28mrange\u001b[39m(steps):\n",
      "\u001b[1;32m---> 36\u001b[0m     \u001b[43mgibbs_step\u001b[49m\u001b[43m(\u001b[49m\u001b[43mgrid\u001b[49m\u001b[43m,\u001b[49m\u001b[43m \u001b[49m\u001b[43mbeta\u001b[49m\u001b[43m)\u001b[49m\n",
      "\u001b[0;32m     37\u001b[0m     \u001b[38;5;28;01mif\u001b[39;00m step \u001b[38;5;241m%\u001b[39m (steps \u001b[38;5;241m/\u001b[39m\u001b[38;5;241m/\u001b[39m \u001b[38;5;241m10\u001b[39m) \u001b[38;5;241m==\u001b[39m \u001b[38;5;241m0\u001b[39m:\n",
      "\u001b[0;32m     38\u001b[0m         \u001b[38;5;66;03m# Display the grid every 10% of the steps\u001b[39;00m\n",
      "\u001b[0;32m     39\u001b[0m         plt\u001b[38;5;241m.\u001b[39mimshow(grid, cmap\u001b[38;5;241m=\u001b[39m\u001b[38;5;124m'\u001b[39m\u001b[38;5;124mgray\u001b[39m\u001b[38;5;124m'\u001b[39m)\n",
      "\n",
      "Cell \u001b[1;32mIn[2], line 29\u001b[0m, in \u001b[0;36mgibbs_step\u001b[1;34m(grid, beta)\u001b[0m\n",
      "\u001b[0;32m     12\u001b[0m neighbors \u001b[38;5;241m=\u001b[39m (\n",
      "\u001b[0;32m     13\u001b[0m     grid[(i \u001b[38;5;241m-\u001b[39m \u001b[38;5;241m1\u001b[39m) \u001b[38;5;241m%\u001b[39m n, j] \u001b[38;5;241m+\u001b[39m\n",
      "\u001b[0;32m     14\u001b[0m     grid[(i \u001b[38;5;241m+\u001b[39m \u001b[38;5;241m1\u001b[39m) \u001b[38;5;241m%\u001b[39m n, j] \u001b[38;5;241m+\u001b[39m\n",
      "\u001b[0;32m     15\u001b[0m     grid[i, (j \u001b[38;5;241m-\u001b[39m \u001b[38;5;241m1\u001b[39m) \u001b[38;5;241m%\u001b[39m n] \u001b[38;5;241m+\u001b[39m\n",
      "\u001b[0;32m     16\u001b[0m     grid[i, (j \u001b[38;5;241m+\u001b[39m \u001b[38;5;241m1\u001b[39m) \u001b[38;5;241m%\u001b[39m n]\n",
      "\u001b[0;32m     17\u001b[0m )\n",
      "\u001b[0;32m     18\u001b[0m \u001b[38;5;66;03m# neighbors = 0\u001b[39;00m\n",
      "\u001b[0;32m     19\u001b[0m \u001b[38;5;66;03m# if i > 0:\u001b[39;00m\n",
      "\u001b[0;32m     20\u001b[0m \u001b[38;5;66;03m#     neighbors += grid[i - 1, j]\u001b[39;00m\n",
      "\u001b[1;32m   (...)\u001b[0m\n",
      "\u001b[0;32m     27\u001b[0m \n",
      "\u001b[0;32m     28\u001b[0m \u001b[38;5;66;03m# Calculate the conditional probability given the neighbors\u001b[39;00m\n",
      "\u001b[1;32m---> 29\u001b[0m prob \u001b[38;5;241m=\u001b[39m \u001b[38;5;241m1\u001b[39m \u001b[38;5;241m/\u001b[39m (\u001b[38;5;241m1\u001b[39m \u001b[38;5;241m+\u001b[39m \u001b[43mnp\u001b[49m\u001b[38;5;241;43m.\u001b[39;49m\u001b[43mexp\u001b[49m\u001b[43m(\u001b[49m\u001b[38;5;241;43m-\u001b[39;49m\u001b[38;5;241;43m2\u001b[39;49m\u001b[43m \u001b[49m\u001b[38;5;241;43m*\u001b[39;49m\u001b[43m \u001b[49m\u001b[43mbeta\u001b[49m\u001b[43m \u001b[49m\u001b[38;5;241;43m*\u001b[39;49m\u001b[43m \u001b[49m\u001b[43mneighbors\u001b[49m\u001b[43m)\u001b[49m)\n",
      "\u001b[0;32m     30\u001b[0m grid[i, j] \u001b[38;5;241m=\u001b[39m \u001b[38;5;241m1\u001b[39m \u001b[38;5;28;01mif\u001b[39;00m np\u001b[38;5;241m.\u001b[39mrandom\u001b[38;5;241m.\u001b[39mrand() \u001b[38;5;241m<\u001b[39m prob \u001b[38;5;28;01melse\u001b[39;00m \u001b[38;5;241m-\u001b[39m\u001b[38;5;241m1\u001b[39m\n",
      "\n",
      "\u001b[1;31mKeyboardInterrupt\u001b[0m: "
     ]
    }
   ],
   "source": [
    "import numpy as np\n",
    "import matplotlib.pyplot as plt\n",
    "\n",
    "def initialize_grid(n):\n",
    "    return np.random.choice([-1, 1], size=(n, n))\n",
    "\n",
    "def gibbs_step(grid, beta):\n",
    "    n = grid.shape[0]\n",
    "    i = np.random.randint(0, n)\n",
    "    j = np.random.randint(0, n)\n",
    "    # Assume periodic boundary conditions\n",
    "    neighbors = (\n",
    "        grid[(i - 1) % n, j] +\n",
    "        grid[(i + 1) % n, j] +\n",
    "        grid[i, (j - 1) % n] +\n",
    "        grid[i, (j + 1) % n]\n",
    "    )\n",
    "    # neighbors = 0\n",
    "    # if i > 0:\n",
    "    #     neighbors += grid[i - 1, j]\n",
    "    # if i < n - 1:\n",
    "    #     neighbors += grid[i + 1, j]\n",
    "    # if j > 0:\n",
    "    #     neighbors += grid[i, j - 1]\n",
    "    # if j < n - 1:\n",
    "    #     neighbors += grid[i, j + 1]\n",
    "\n",
    "    # Calculate the conditional probability given the neighbors\n",
    "    prob = 1 / (1 + np.exp(-2 * beta * neighbors))\n",
    "    grid[i, j] = 1 if np.random.rand() < prob else -1\n",
    "\n",
    "\n",
    "def simulate_ising_gibbs(n, beta, steps):\n",
    "    grid = initialize_grid(n)\n",
    "    for step in range(steps):\n",
    "        gibbs_step(grid, beta)\n",
    "        if step % (steps // 10) == 0:\n",
    "            # Display the grid every 10% of the steps\n",
    "            plt.imshow(grid, cmap='gray')\n",
    "            plt.title(f\"Step {step}, β={beta}\")\n",
    "            plt.axis('off')\n",
    "            plt.show()\n",
    "    return grid\n",
    "\n",
    "n = 100\n",
    "betas = [-1, 0, 0.441, 0.8]\n",
    "steps = 10000000\n",
    "\n",
    "for beta in betas:\n",
    "    final_grid = simulate_ising_gibbs(n, beta, steps)\n",
    "    plt.imshow(final_grid, cmap='gray')\n",
    "    plt.title(f\"Final configuration, β={beta}\")\n",
    "    plt.axis('off')\n",
    "    plt.show()\n"
   ]
  },
  {
   "cell_type": "markdown",
   "metadata": {},
   "source": [
    "### Task C\n",
    "\n",
    "- $ \\beta = -5 $: Gradually a perfect grid of black and white is generated. This suggests that each spin tends to behave in the opposite state to the neighbouring spins. $\\beta < 0$ is non-physical since the temperature cannot smaller than 0. Normally, each spin should gradually become similar through the interaction of neighbouring nodes, and this current unlikely situation produces the exact opposite run.\n",
    "- $ \\beta = 0.2 $: The black and white colour blocks appear more randomly and there are no clear large colour blocks produced. While not an ambient temperature at infinity, it is still a high temperature well beyond the critical temperature, and the influence of the environment outweighs the neighbouring spins, leading to more randomness than limitation.\n",
    "- $ \\beta = 0.441 $: The black and white blocks of colour are no longer distributed completely randomly, with identical colours gradually coming closer together to form large, less obvious areas of colour. It is known from physics that the current temperature corresponds to the phase transition temperature of the magnet, or the critical temperature. Each spin of the magnet starts to be influenced by its neighbour spins at this temperature, gradually showing convergence. The most important is that the formation of black and white regions seems to be more pronounced compared to $ n = 100 $, probably because the presence of more spins produces stronger interaction forces.\n",
    "- $ \\beta = 0.6 $: Black and white colour blocks gradually shrink into tangibler continuous areas than $\\beta =0.441$ since the temperature is lower. At the current temperature, the environmental temperature is so low, so that the influence of neighbouring spins easily outweighs the influence of the temperature, and so the spins naturally tend to change to the same state as their neighbours. Corresponds to the fact that magnets have magnetic poles at low temperatures."
   ]
  },
  {
   "cell_type": "code",
   "execution_count": null,
   "metadata": {},
   "outputs": [],
   "source": [
    "n = 300\n",
    "betas = [-5, 0.2, 0.441, 0.6]\n",
    "steps = 10000000\n",
    "\n",
    "for beta in betas:\n",
    "    final_grid = simulate_ising_gibbs(n, beta, steps)\n",
    "    plt.imshow(final_grid, cmap='gray')\n",
    "    plt.title(f\"Final configuration, β={beta}\")\n",
    "    plt.axis('off')\n",
    "    plt.show()"
   ]
  },
  {
   "cell_type": "code",
   "execution_count": null,
   "metadata": {},
   "outputs": [
    {
     "data": {
      "image/png": "[encoded data removed]",
      "text/plain": [
       "<Figure size 640x480 with 1 Axes>"
      ]
     },
     "metadata": {},
     "output_type": "display_data"
    },
    {
     "data": {
      "image/png": "[encoded data removed]",
      "text/plain": [
       "<Figure size 640x480 with 1 Axes>"
      ]
     },
     "metadata": {},
     "output_type": "display_data"
    },
    {
     "data": {
      "image/png": "[encoded data removed]",
      "text/plain": [
       "<Figure size 640x480 with 1 Axes>"
      ]
     },
     "metadata": {},
     "output_type": "display_data"
    },
    {
     "data": {
      "image/png": "[encoded data removed]",
      "text/plain": [
       "<Figure size 640x480 with 1 Axes>"
      ]
     },
     "metadata": {},
     "output_type": "display_data"
    },
    {
     "data": {
      "image/png": "[encoded data removed]",
      "text/plain": [
       "<Figure size 640x480 with 1 Axes>"
      ]
     },
     "metadata": {},
     "output_type": "display_data"
    },
    {
     "data": {
      "image/png": "[encoded data removed]",
      "text/plain": [
       "<Figure size 640x480 with 1 Axes>"
      ]
     },
     "metadata": {},
     "output_type": "display_data"
    },
    {
     "ename": "KeyboardInterrupt",
     "evalue": "",
     "output_type": "error",
     "traceback": [
      "\u001b[1;31m---------------------------------------------------------------------------\u001b[0m\n",
      "\u001b[1;31mKeyboardInterrupt\u001b[0m                         Traceback (most recent call last)\n",
      "Cell \u001b[1;32mIn[3], line 50\u001b[0m\n",
      "\u001b[0;32m     47\u001b[0m steps \u001b[38;5;241m=\u001b[39m \u001b[38;5;241m10000000\u001b[39m\n",
      "\u001b[0;32m     49\u001b[0m \u001b[38;5;28;01mfor\u001b[39;00m beta \u001b[38;5;129;01min\u001b[39;00m betas:\n",
      "\u001b[1;32m---> 50\u001b[0m     final_grid \u001b[38;5;241m=\u001b[39m \u001b[43msimulate_ising_gibbs\u001b[49m\u001b[43m(\u001b[49m\u001b[43mn\u001b[49m\u001b[43m,\u001b[49m\u001b[43m \u001b[49m\u001b[43mbeta\u001b[49m\u001b[43m,\u001b[49m\u001b[43m \u001b[49m\u001b[43msteps\u001b[49m\u001b[43m)\u001b[49m\n",
      "\u001b[0;32m     51\u001b[0m     plt\u001b[38;5;241m.\u001b[39mimshow(final_grid, cmap\u001b[38;5;241m=\u001b[39m\u001b[38;5;124m'\u001b[39m\u001b[38;5;124mgray\u001b[39m\u001b[38;5;124m'\u001b[39m)\n",
      "\u001b[0;32m     52\u001b[0m     plt\u001b[38;5;241m.\u001b[39mtitle(\u001b[38;5;124mf\u001b[39m\u001b[38;5;124m\"\u001b[39m\u001b[38;5;124mFinal configuration, β=\u001b[39m\u001b[38;5;132;01m{\u001b[39;00mbeta\u001b[38;5;132;01m}\u001b[39;00m\u001b[38;5;124m\"\u001b[39m)\n",
      "\n",
      "Cell \u001b[1;32mIn[3], line 36\u001b[0m, in \u001b[0;36msimulate_ising_gibbs\u001b[1;34m(n, beta, steps)\u001b[0m\n",
      "\u001b[0;32m     34\u001b[0m grid \u001b[38;5;241m=\u001b[39m initialize_grid(n)\n",
      "\u001b[0;32m     35\u001b[0m \u001b[38;5;28;01mfor\u001b[39;00m step \u001b[38;5;129;01min\u001b[39;00m \u001b[38;5;28mrange\u001b[39m(steps):\n",
      "\u001b[1;32m---> 36\u001b[0m     \u001b[43mgibbs_step\u001b[49m\u001b[43m(\u001b[49m\u001b[43mgrid\u001b[49m\u001b[43m,\u001b[49m\u001b[43m \u001b[49m\u001b[43mbeta\u001b[49m\u001b[43m)\u001b[49m\n",
      "\u001b[0;32m     37\u001b[0m     \u001b[38;5;28;01mif\u001b[39;00m step \u001b[38;5;241m%\u001b[39m (steps \u001b[38;5;241m/\u001b[39m\u001b[38;5;241m/\u001b[39m \u001b[38;5;241m10\u001b[39m) \u001b[38;5;241m==\u001b[39m \u001b[38;5;241m0\u001b[39m:\n",
      "\u001b[0;32m     38\u001b[0m         \u001b[38;5;66;03m# Display the grid every 10% of the steps\u001b[39;00m\n",
      "\u001b[0;32m     39\u001b[0m         plt\u001b[38;5;241m.\u001b[39mimshow(grid, cmap\u001b[38;5;241m=\u001b[39m\u001b[38;5;124m'\u001b[39m\u001b[38;5;124mgray\u001b[39m\u001b[38;5;124m'\u001b[39m)\n",
      "\n",
      "Cell \u001b[1;32mIn[3], line 30\u001b[0m, in \u001b[0;36mgibbs_step\u001b[1;34m(grid, beta)\u001b[0m\n",
      "\u001b[0;32m     18\u001b[0m \u001b[38;5;66;03m# neighbors = 0\u001b[39;00m\n",
      "\u001b[0;32m     19\u001b[0m \u001b[38;5;66;03m# if i > 0:\u001b[39;00m\n",
      "\u001b[0;32m     20\u001b[0m \u001b[38;5;66;03m#     neighbors += grid[i - 1, j]\u001b[39;00m\n",
      "\u001b[1;32m   (...)\u001b[0m\n",
      "\u001b[0;32m     27\u001b[0m \n",
      "\u001b[0;32m     28\u001b[0m \u001b[38;5;66;03m# Calculate the conditional probability given the neighbors\u001b[39;00m\n",
      "\u001b[0;32m     29\u001b[0m prob \u001b[38;5;241m=\u001b[39m \u001b[38;5;241m1\u001b[39m \u001b[38;5;241m/\u001b[39m (\u001b[38;5;241m1\u001b[39m \u001b[38;5;241m+\u001b[39m np\u001b[38;5;241m.\u001b[39mexp(\u001b[38;5;241m-\u001b[39m\u001b[38;5;241m2\u001b[39m \u001b[38;5;241m*\u001b[39m beta \u001b[38;5;241m*\u001b[39m neighbors))\n",
      "\u001b[1;32m---> 30\u001b[0m grid[i, j] \u001b[38;5;241m=\u001b[39m \u001b[38;5;241m1\u001b[39m \u001b[38;5;28;01mif\u001b[39;00m \u001b[43mnp\u001b[49m\u001b[38;5;241;43m.\u001b[39;49m\u001b[43mrandom\u001b[49m\u001b[38;5;241;43m.\u001b[39;49m\u001b[43mrand\u001b[49m\u001b[43m(\u001b[49m\u001b[43m)\u001b[49m \u001b[38;5;241m<\u001b[39m prob \u001b[38;5;28;01melse\u001b[39;00m \u001b[38;5;241m-\u001b[39m\u001b[38;5;241m1\u001b[39m\n",
      "\n",
      "\u001b[1;31mKeyboardInterrupt\u001b[0m: "
     ]
    }
   ],
   "source": [
    "import numpy as np\n",
    "import matplotlib.pyplot as plt\n",
    "\n",
    "def initialize_grid(n):\n",
    "    return np.random.choice([-1, 1], size=(n, n))\n",
    "\n",
    "def gibbs_step(grid, beta):\n",
    "    n = grid.shape[0]\n",
    "    i = np.random.randint(0, n)\n",
    "    j = np.random.randint(0, n)\n",
    "    # Assume periodic boundary conditions\n",
    "    neighbors = (\n",
    "        grid[(i - 1) % n, j] +\n",
    "        grid[(i + 1) % n, j] +\n",
    "        grid[i, (j - 1) % n] +\n",
    "        grid[i, (j + 1) % n]\n",
    "    )\n",
    "    # neighbors = 0\n",
    "    # if i > 0:\n",
    "    #     neighbors += grid[i - 1, j]\n",
    "    # if i < n - 1:\n",
    "    #     neighbors += grid[i + 1, j]\n",
    "    # if j > 0:\n",
    "    #     neighbors += grid[i, j - 1]\n",
    "    # if j < n - 1:\n",
    "    #     neighbors += grid[i, j + 1]\n",
    "\n",
    "    # Calculate the conditional probability given the neighbors\n",
    "    prob = 1 / (1 + np.exp(-2 * beta * neighbors))\n",
    "    grid[i, j] = 1 if np.random.rand() < prob else -1\n",
    "\n",
    "\n",
    "def simulate_ising_gibbs(n, beta, steps):\n",
    "    grid = initialize_grid(n)\n",
    "    for step in range(steps):\n",
    "        gibbs_step(grid, beta)\n",
    "        if step % (steps // 10) == 0:\n",
    "            # Display the grid every 10% of the steps\n",
    "            plt.imshow(grid, cmap='gray')\n",
    "            plt.title(f\"Step {step}, β={beta}\")\n",
    "            plt.axis('off')\n",
    "            plt.show()\n",
    "    return grid\n",
    "\n",
    "n = 100\n",
    "betas = [-1, 0, 0.441, 0.8]\n",
    "steps = 10000000\n",
    "\n",
    "for beta in betas:\n",
    "    final_grid = simulate_ising_gibbs(n, beta, steps)\n",
    "    plt.imshow(final_grid, cmap='gray')\n",
    "    plt.title(f\"Final configuration, β={beta}\")\n",
    "    plt.axis('off')\n",
    "    plt.show()"
   ]
  },
  {
   "cell_type": "markdown",
   "metadata": {},
   "source": [
    "From above we know that if $n=100$, $k=5903$"
   ]
  },
  {
   "cell_type": "markdown",
   "metadata": {},
   "source": [
    "\n",
    "\n",
    "Then suppose there are at least $k$ tiles opened to make a percolation. And the probability of each tile opened is $p$. So the probability of percolation is $\\sum_{i=1}^{n^2-k+1} = (\\frac{p}{1-p})^ip^{k-1}(1-p)^{n^2-k+1} = \\frac{p^k(1-p)^{n^2-k}(1-(\\frac{p}{1-p})^{n^2-k+1})}{1-\\frac{p}{1-p}}$\n"
   ]
  },
  {
   "cell_type": "code",
   "execution_count": null,
   "metadata": {},
   "outputs": [],
   "source": []
  },
  {
   "cell_type": "code",
   "execution_count": null,
   "metadata": {},
   "outputs": [],
   "source": []
  }
 ],
 "metadata": {
  "kernelspec": {
   "display_name": "Python 3",
   "language": "python",
   "name": "python3"
  },
  "language_info": {
   "codemirror_mode": {
    "name": "ipython",
    "version": 3
   },
   "file_extension": ".py",
   "mimetype": "text/x-python",
   "name": "python",
   "nbconvert_exporter": "python",
   "pygments_lexer": "ipython3",
   "version": "3.10.6"
  }
 },
 "nbformat": 4,
 "nbformat_minor": 2
}
