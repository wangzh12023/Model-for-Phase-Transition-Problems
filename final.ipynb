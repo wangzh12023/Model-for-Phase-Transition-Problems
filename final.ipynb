{
 "cells": [
  {
   "cell_type": "markdown",
   "metadata": {},
   "source": [
    "## Part 1\n",
    "\n",
    "Firstly we do the monte carlo simulation to find the mean at least tiles to make percolation(assume the result is $k$) "
   ]
  },
  {
   "cell_type": "code",
   "execution_count": null,
   "metadata": {},
   "outputs": [],
   "source": [
    "import random\n",
    "import numpy as np\n",
    "import matplotlib.pyplot as plt\n",
    "from typing import Tuple\n",
    "\n",
    "def dfs(grid, visited, x, y, n) -> bool: \n",
    "    DIRECTIONS = [(-1, 0), (1, 0), (0, -1), (0, 1)]   \n",
    "    stack = [(x, y)]\n",
    "    while stack:\n",
    "        cx, cy = stack.pop()\n",
    "        if visited[cx, cy]:\n",
    "            continue\n",
    "        visited[cx, cy] = True\n",
    "        for dx, dy in DIRECTIONS:\n",
    "            nx, ny = cx + dx, cy + dy\n",
    "            if (0 <= nx < n and 0 <= ny < n) and not visited[nx, ny] and grid[nx, ny] == 1:\n",
    "                if nx == n - 1:  \n",
    "                    return True\n",
    "                stack.append((nx, ny))\n",
    "    return False\n",
    "\n",
    "def percolates(grid, n) -> bool:\n",
    "    visited = np.zeros((n, n), dtype=bool)\n",
    "    for col in range(n):\n",
    "        if grid[0, col] == 1 and not visited[0, col] and dfs(grid, visited, 0, col, n):\n",
    "            return True\n",
    "    return False\n",
    "\n",
    "def monte_carlo_simulation(n) -> Tuple[float, int]:\n",
    "    grid = np.zeros((n, n), dtype=int)  \n",
    "    open_sites = 0\n",
    "    while True:\n",
    "        x, y = random.randint(0, n - 1), random.randint(0, n - 1)\n",
    "        while grid[x, y] == 1:  \n",
    "            x, y = random.randint(0, n - 1), random.randint(0, n - 1)\n",
    "        grid[x, y] = 1\n",
    "        open_sites += 1\n",
    "        if percolates(grid, n):\n",
    "            return open_sites / (n * n), open_sites  \n",
    "\n",
    "def estimate_percolation_threshold(n, trials)-> Tuple[float, int]:\n",
    "    thresholds = []\n",
    "    nums = []\n",
    "    for _ in range(trials):\n",
    "        threshold, num = monte_carlo_simulation(n)\n",
    "        thresholds.append(threshold)\n",
    "        nums.append(num)\n",
    "    return np.mean(thresholds), int(np.mean(nums))\n",
    "\n"
   ]
  },
  {
   "cell_type": "code",
   "execution_count": 21,
   "metadata": {},
   "outputs": [
    {
     "name": "stdout",
     "output_type": "stream",
     "text": [
      "mean threshold:0.596\n",
      "mean nums:238\n"
     ]
    }
   ],
   "source": [
    "n = 20  \n",
    "trials = 10 \n",
    "\n",
    "\n",
    "estimated_threshold, mean_nums_tile = estimate_percolation_threshold(n, trials)\n",
    "print(f\"mean threshold:{estimated_threshold}\\nmean nums:{mean_nums_tile}\")"
   ]
  },
  {
   "cell_type": "markdown",
   "metadata": {},
   "source": [
    "From above we know that if $n=20$, $k=237$"
   ]
  },
  {
   "cell_type": "code",
   "execution_count": 17,
   "metadata": {},
   "outputs": [
    {
     "name": "stdout",
     "output_type": "stream",
     "text": [
      "mean threshold:0.60332\n",
      "mean nums:1508.3\n"
     ]
    }
   ],
   "source": [
    "n = 50  \n",
    "trials = 10 \n",
    "\n",
    "\n",
    "estimated_threshold, mean_nums_tile = estimate_percolation_threshold(n, trials)\n",
    "print(f\"mean threshold:{estimated_threshold}\\nmean nums:{mean_nums_tile}\")"
   ]
  },
  {
   "cell_type": "markdown",
   "metadata": {},
   "source": [
    "From above we know that if $n=50$, $k=1480$"
   ]
  },
  {
   "cell_type": "code",
   "execution_count": 18,
   "metadata": {},
   "outputs": [
    {
     "name": "stdout",
     "output_type": "stream",
     "text": [
      "mean threshold:0.5902999999999999\n",
      "mean nums:5903.0\n"
     ]
    }
   ],
   "source": [
    "n = 100 \n",
    "trials = 10 \n",
    "\n",
    "\n",
    "estimated_threshold, mean_nums_tile = estimate_percolation_threshold(n, trials)\n",
    "print(f\"mean threshold:{estimated_threshold}\\nmean nums:{mean_nums_tile}\")"
   ]
  },
  {
   "cell_type": "markdown",
   "metadata": {},
   "source": [
    "From above we know that if $n=100$, $k=5903$"
   ]
  },
  {
   "cell_type": "markdown",
   "metadata": {},
   "source": [
    "\n",
    "\n",
    "Then suppose there are at least $k$ tiles opened to make a percolation. And the probability of each tile opened is $p$. So the probability of percolation is $\\sum_{i=1}^{n^2-k+1} = (\\frac{p}{1-p})^ip^{k-1}(1-p)^{n^2-k+1} = \\frac{p^k(1-p)^{n^2-k}(1-(\\frac{p}{1-p})^{n^2-k+1})}{1-\\frac{p}{1-p}}$\n"
   ]
  },
  {
   "cell_type": "code",
   "execution_count": null,
   "metadata": {},
   "outputs": [],
   "source": []
  },
  {
   "cell_type": "code",
   "execution_count": null,
   "metadata": {},
   "outputs": [],
   "source": []
  }
 ],
 "metadata": {
  "kernelspec": {
   "display_name": "Python 3",
   "language": "python",
   "name": "python3"
  },
  "language_info": {
   "codemirror_mode": {
    "name": "ipython",
    "version": 3
   },
   "file_extension": ".py",
   "mimetype": "text/x-python",
   "name": "python",
   "nbconvert_exporter": "python",
   "pygments_lexer": "ipython3",
   "version": "3.10.6"
  }
 },
 "nbformat": 4,
 "nbformat_minor": 2
}
